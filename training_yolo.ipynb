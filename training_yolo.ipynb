{
 "cells": [
  {
   "cell_type": "markdown",
   "metadata": {},
   "source": [
    "## Importations"
   ]
  },
  {
   "cell_type": "code",
   "execution_count": null,
   "metadata": {},
   "outputs": [],
   "source": [
    "from ultralytics import YOLO"
   ]
  },
  {
   "cell_type": "code",
   "execution_count": null,
   "metadata": {},
   "outputs": [],
   "source": [
    "# Charger un modèle YOLO pré-entraîné ou un modèle vierge pour un fine-tuning\n",
    "model = YOLO('yolov5s.pt')  # ou 'yolov8n.pt' pour YOLOv8\n",
    "# Charger le modèle YOLO et le configurer pour l’entraînement\n",
    "model.train(data='config.yaml', epochs=100, batch=4, imgsz=1280)"
   ]
  },
  {
   "cell_type": "markdown",
   "metadata": {},
   "source": [
    "Fix the path watching the error, in your yolov5 installation"
   ]
  }
 ],
 "metadata": {
  "language_info": {
   "name": "python"
  }
 },
 "nbformat": 4,
 "nbformat_minor": 2
}
